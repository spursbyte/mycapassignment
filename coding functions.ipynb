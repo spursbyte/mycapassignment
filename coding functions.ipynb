{
 "cells": [
  {
   "cell_type": "code",
   "execution_count": 11,
   "metadata": {},
   "outputs": [
    {
     "name": "stdout",
     "output_type": "stream",
     "text": [
      "['a', 'b', 1, 'c']\n"
     ]
    }
   ],
   "source": [
    "#assigning elements to a list\n",
    "def assign_ele_list(list,element,index):\n",
    "    list.insert(index,element)\n",
    "    print(list)\n",
    "\n",
    "list1 = ['a','b','c']\n",
    "element = 1\n",
    "index = 2\n",
    "assign_ele_list(list1,element,index)\n"
   ]
  },
  {
   "cell_type": "code",
   "execution_count": 17,
   "metadata": {},
   "outputs": [
    {
     "name": "stdout",
     "output_type": "stream",
     "text": [
      "3\n"
     ]
    }
   ],
   "source": [
    "#accessing elements of a tuple\n",
    "def access_tuple(tuple,index):\n",
    "    print(tuple[index])\n",
    "\n",
    "tup1 = (1,2,3,4)\n",
    "access_tuple(tup1,2)\n",
    "\n",
    "\n",
    "\n"
   ]
  },
  {
   "cell_type": "code",
   "execution_count": 18,
   "metadata": {},
   "outputs": [
    {
     "name": "stdout",
     "output_type": "stream",
     "text": [
      "{'b': 2, 'c': 3}\n"
     ]
    }
   ],
   "source": [
    "#deleting element from a dictionary\n",
    "def del_ele_dict(dict,key):\n",
    "    dict.pop(key)\n",
    "    print(dict)\n",
    "\n",
    "dict1 = {'a':1,'b':2, 'c':3}\n",
    "key = 'a'\n",
    "del_ele_dict(dict1,key)\n",
    "\n",
    "     "
   ]
  },
  {
   "cell_type": "code",
   "execution_count": null,
   "metadata": {},
   "outputs": [],
   "source": []
  },
  {
   "cell_type": "code",
   "execution_count": null,
   "metadata": {},
   "outputs": [],
   "source": []
  },
  {
   "cell_type": "code",
   "execution_count": null,
   "metadata": {},
   "outputs": [],
   "source": []
  },
  {
   "cell_type": "code",
   "execution_count": null,
   "metadata": {},
   "outputs": [],
   "source": []
  },
  {
   "cell_type": "code",
   "execution_count": null,
   "metadata": {},
   "outputs": [],
   "source": []
  }
 ],
 "metadata": {
  "kernelspec": {
   "display_name": "Python 3",
   "language": "python",
   "name": "python3"
  },
  "language_info": {
   "codemirror_mode": {
    "name": "ipython",
    "version": 3
   },
   "file_extension": ".py",
   "mimetype": "text/x-python",
   "name": "python",
   "nbconvert_exporter": "python",
   "pygments_lexer": "ipython3",
   "version": "3.7.6"
  }
 },
 "nbformat": 4,
 "nbformat_minor": 4
}
